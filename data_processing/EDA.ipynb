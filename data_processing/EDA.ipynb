{
 "cells": [
  {
   "cell_type": "code",
   "execution_count": 37,
   "id": "dce7e3d6-1997-45bc-9b2e-1f2c2cc14ba5",
   "metadata": {},
   "outputs": [],
   "source": [
    "import json\n",
    "import pandas as pd\n",
    "from collections import defaultdict"
   ]
  },
  {
   "cell_type": "markdown",
   "id": "6940c7e7-3a27-49b3-a78e-358c0a426918",
   "metadata": {},
   "source": [
    "## Trip Advisor\n",
    "\n",
    "This section conducts a simple exploratory data analysis of the trip advisor dataset, along with the supplementary data that was scraped."
   ]
  },
  {
   "cell_type": "code",
   "execution_count": 11,
   "id": "66110104-7561-41d8-a9a9-c8df497fc9ae",
   "metadata": {},
   "outputs": [],
   "source": [
    "with open(\"../data/cmu/offering.txt\") as f:\n",
    "    offerings = [json.loads(jline) for jline in f.read().splitlines()]\n",
    "\n",
    "\n",
    "with open(\"../data/cmu/review.txt\") as f:\n",
    "    reviews = [json.loads(jline) for jline in f.read().splitlines()]\n",
    "\n",
    "\n",
    "with open('../data/cmu/trip_advisor_scraped.json', \"r\") as outfile:\n",
    "    scraped_data = json.load(outfile)"
   ]
  },
  {
   "cell_type": "markdown",
   "id": "ba771136-2adc-4237-aa99-830b573553a0",
   "metadata": {},
   "source": [
    "### Offerings"
   ]
  },
  {
   "cell_type": "code",
   "execution_count": 18,
   "id": "a618a9e8-929d-488c-ad32-799af703ae66",
   "metadata": {},
   "outputs": [
    {
     "data": {
      "text/plain": [
       "4333"
      ]
     },
     "execution_count": 18,
     "metadata": {},
     "output_type": "execute_result"
    }
   ],
   "source": [
    "len(offerings)"
   ]
  },
  {
   "cell_type": "code",
   "execution_count": 14,
   "id": "60b4a779-6140-4fa8-a45c-5f5747b5966e",
   "metadata": {},
   "outputs": [
    {
     "data": {
      "text/plain": [
       "{'hotel_class': 4.0,\n",
       " 'region_id': 60763,\n",
       " 'url': 'http://www.tripadvisor.com/Hotel_Review-g60763-d113317-Reviews-Casablanca_Hotel_Times_Square-New_York_City_New_York.html',\n",
       " 'phone': '',\n",
       " 'details': None,\n",
       " 'address': {'region': 'NY',\n",
       "  'street-address': '147 West 43rd Street',\n",
       "  'postal-code': '10036',\n",
       "  'locality': 'New York City'},\n",
       " 'type': 'hotel',\n",
       " 'id': 113317,\n",
       " 'name': 'Casablanca Hotel Times Square'}"
      ]
     },
     "execution_count": 14,
     "metadata": {},
     "output_type": "execute_result"
    }
   ],
   "source": [
    "offerings[0]"
   ]
  },
  {
   "cell_type": "code",
   "execution_count": 17,
   "id": "dc45b1d8-1ca5-4864-8085-d25f1ce0ed40",
   "metadata": {},
   "outputs": [
    {
     "data": {
      "text/plain": [
       "{'hotel'}"
      ]
     },
     "execution_count": 17,
     "metadata": {},
     "output_type": "execute_result"
    }
   ],
   "source": [
    "unique_types = {offering['type'] for offering in offerings}\n",
    "unique_types"
   ]
  },
  {
   "cell_type": "code",
   "execution_count": 57,
   "id": "58a2dd5a-9608-476a-ad64-590d6edbda5e",
   "metadata": {},
   "outputs": [
    {
     "data": {
      "text/plain": [
       "{'AZ',\n",
       " 'CA',\n",
       " 'CO',\n",
       " 'DC',\n",
       " 'FL',\n",
       " 'IL',\n",
       " 'IN',\n",
       " 'MA',\n",
       " 'MD',\n",
       " 'MI',\n",
       " 'NC',\n",
       " 'NY',\n",
       " 'OH',\n",
       " 'PA',\n",
       " 'TN',\n",
       " 'TX',\n",
       " 'WA'}"
      ]
     },
     "execution_count": 57,
     "metadata": {},
     "output_type": "execute_result"
    }
   ],
   "source": [
    "{offering[\"address\"][\"region\"] for offering in offerings}"
   ]
  },
  {
   "cell_type": "code",
   "execution_count": 58,
   "id": "8f2ae429-b497-490c-9eb3-0ff59282a950",
   "metadata": {},
   "outputs": [
    {
     "data": {
      "text/plain": [
       "{'Austin',\n",
       " 'Baltimore',\n",
       " 'Boston',\n",
       " 'Charlotte',\n",
       " 'Chicago',\n",
       " 'Columbus',\n",
       " 'Dallas',\n",
       " 'Denver',\n",
       " 'Detroit',\n",
       " 'El Paso',\n",
       " 'Fort Worth',\n",
       " 'Houston',\n",
       " 'Indianapolis',\n",
       " 'Jacksonville',\n",
       " 'Los Angeles',\n",
       " 'Memphis',\n",
       " 'New York City',\n",
       " 'Philadelphia',\n",
       " 'Phoenix',\n",
       " 'San Antonio',\n",
       " 'San Diego',\n",
       " 'San Francisco',\n",
       " 'San Jose',\n",
       " 'Seattle',\n",
       " 'Washington DC'}"
      ]
     },
     "execution_count": 58,
     "metadata": {},
     "output_type": "execute_result"
    }
   ],
   "source": [
    "{offering[\"address\"][\"locality\"] for offering in offerings}"
   ]
  },
  {
   "cell_type": "markdown",
   "id": "6eccb9e1-f42e-41de-b1de-d2ebf2fefadd",
   "metadata": {},
   "source": [
    "### Reviews"
   ]
  },
  {
   "cell_type": "code",
   "execution_count": 30,
   "id": "f6e53345-cee0-4bd1-8daf-f85f9144903d",
   "metadata": {},
   "outputs": [
    {
     "data": {
      "text/plain": [
       "878561"
      ]
     },
     "execution_count": 30,
     "metadata": {},
     "output_type": "execute_result"
    }
   ],
   "source": [
    "len(reviews)"
   ]
  },
  {
   "cell_type": "code",
   "execution_count": 31,
   "id": "767fa804-9785-474e-b38c-fca82d6347d4",
   "metadata": {},
   "outputs": [
    {
     "data": {
      "text/plain": [
       "{'ratings': {'service': 5.0,\n",
       "  'cleanliness': 5.0,\n",
       "  'overall': 5.0,\n",
       "  'value': 5.0,\n",
       "  'location': 5.0,\n",
       "  'sleep_quality': 5.0,\n",
       "  'rooms': 5.0},\n",
       " 'title': '“Truly is \"Jewel of the Upper Wets Side\"”',\n",
       " 'text': 'Stayed in a king suite for 11 nights and yes it cots us a bit but we were happy with the standard of room, the location and the friendliness of the staff. Our room was on the 20th floor overlooking Broadway and the madhouse of the Fairway Market. Room was quite with no noise evident from the hallway or adjoining rooms. It was great to be able to open windows when we craved fresh rather than heated air. The beds, including the fold out sofa bed, were comfortable and the rooms were cleaned well. Wi-fi access worked like a dream with only one connectivity issue on our first night and this was promptly responded to with a call from the service provider to ensure that all was well. The location close to the 72nd Street subway station is great and the complimentary umbrellas on the drizzly days were greatly appreciated. It is fabulous to have the kitchen with cooking facilities and the access to a whole range of fresh foods directly across the road at Fairway.\\nThis is the second time that members of the party have stayed at the Beacon and it will certainly be our hotel of choice for future visits.',\n",
       " 'author': {'username': 'Papa_Panda',\n",
       "  'num_cities': 22,\n",
       "  'num_helpful_votes': 12,\n",
       "  'num_reviews': 29,\n",
       "  'num_type_reviews': 24,\n",
       "  'id': '8C0B42FF3C0FA366A21CFD785302A032',\n",
       "  'location': 'Gold Coast'},\n",
       " 'date_stayed': 'December 2012',\n",
       " 'offering_id': 93338,\n",
       " 'num_helpful_votes': 0,\n",
       " 'date': 'December 17, 2012',\n",
       " 'id': 147643103,\n",
       " 'via_mobile': False}"
      ]
     },
     "execution_count": 31,
     "metadata": {},
     "output_type": "execute_result"
    }
   ],
   "source": [
    "reviews[0]"
   ]
  },
  {
   "cell_type": "code",
   "execution_count": 65,
   "id": "a5d694e0-c01f-4a12-ad91-d953011b9b9f",
   "metadata": {},
   "outputs": [
    {
     "name": "stdout",
     "output_type": "stream",
     "text": [
      "service: [760918, 5.0, 0]\n",
      "cleanliness: [759835, 5.0, 0]\n",
      "overall: [878561, 5.0, 0]\n",
      "value: [753695, 5.0, 0]\n",
      "location: [664904, 5.0, 0]\n",
      "sleep_quality: [500903, 5.0, 0]\n",
      "rooms: [705404, 5.0, 0]\n",
      "check_in_front_desk: [99784, 5.0, 0]\n",
      "business_service_(e_g_internet_access): [65729, 5.0, 0]\n"
     ]
    }
   ],
   "source": [
    "rating_categories = defaultdict(lambda: [0, 0, 0])\n",
    "for review in reviews:\n",
    "    for category in review[\"ratings\"]:\n",
    "        rating_categories[category][1] = max(rating_categories[category][1], review[\"ratings\"][category])\n",
    "        rating_categories[category][2] = min(rating_categories[category][2], review[\"ratings\"][category])\n",
    "        rating_categories[category][0] +=  1\n",
    "for k, v in rating_categories.items():\n",
    "    print(f\"{k}: {v}\")"
   ]
  },
  {
   "cell_type": "code",
   "execution_count": null,
   "id": "d642cc56-ba6f-4854-989b-bb61b1535a0e",
   "metadata": {},
   "outputs": [],
   "source": []
  },
  {
   "cell_type": "markdown",
   "id": "9128efb4-6b56-4c9d-b33e-0fe71f2d31aa",
   "metadata": {},
   "source": [
    "### Scraped data"
   ]
  },
  {
   "cell_type": "code",
   "execution_count": 36,
   "id": "049b7579-4ce6-4082-b634-03d1562a496d",
   "metadata": {},
   "outputs": [
    {
     "data": {
      "text/plain": [
       "{'url': 'https://www.tripadvisor.com/Hotel_Review-g60763-d208454-Reviews-Sofitel_New_York-New_York_City_New_York.html',\n",
       " 'location': '45 West 44th Street, New York City, NY 10036',\n",
       " 'city': 'New York City',\n",
       " 'country': 'United States',\n",
       " 'attractions': ['Gabriel Kreuther',\n",
       "  \"Tony's Di Napoli - Midtown\",\n",
       "  'Megan’s Bar & Kitchen',\n",
       "  'Hatsuhana Sushi Restaurant',\n",
       "  'Broadway',\n",
       "  'Grand Central Terminal',\n",
       "  'Bryant Park',\n",
       "  'New York Public Library']}"
      ]
     },
     "execution_count": 36,
     "metadata": {},
     "output_type": "execute_result"
    }
   ],
   "source": [
    "scraped_data[0]"
   ]
  },
  {
   "cell_type": "markdown",
   "id": "2f63ef92-6259-40fe-ac67-096930ffce66",
   "metadata": {},
   "source": [
    "## AirBnB\n",
    "\n",
    "This section conducts a simple exploratory data analysis of the airbnb dataset."
   ]
  },
  {
   "cell_type": "markdown",
   "id": "07965f97-98fc-4187-b418-98494a254bc1",
   "metadata": {},
   "source": [
    "### Calendar"
   ]
  },
  {
   "cell_type": "code",
   "execution_count": 43,
   "id": "6f3339cc-0a30-4f8b-a8b0-5f9ceb4064cf",
   "metadata": {
    "scrolled": true
   },
   "outputs": [
    {
     "data": {
      "text/html": [
       "<div>\n",
       "<style scoped>\n",
       "    .dataframe tbody tr th:only-of-type {\n",
       "        vertical-align: middle;\n",
       "    }\n",
       "\n",
       "    .dataframe tbody tr th {\n",
       "        vertical-align: top;\n",
       "    }\n",
       "\n",
       "    .dataframe thead th {\n",
       "        text-align: right;\n",
       "    }\n",
       "</style>\n",
       "<table border=\"1\" class=\"dataframe\">\n",
       "  <thead>\n",
       "    <tr style=\"text-align: right;\">\n",
       "      <th></th>\n",
       "      <th>listing_id</th>\n",
       "      <th>date</th>\n",
       "      <th>available</th>\n",
       "      <th>price</th>\n",
       "      <th>adjusted_price</th>\n",
       "      <th>minimum_nights</th>\n",
       "      <th>maximum_nights</th>\n",
       "    </tr>\n",
       "  </thead>\n",
       "  <tbody>\n",
       "    <tr>\n",
       "      <th>0</th>\n",
       "      <td>2818</td>\n",
       "      <td>2023-09-04</td>\n",
       "      <td>f</td>\n",
       "      <td>$69.00</td>\n",
       "      <td>$69.00</td>\n",
       "      <td>3</td>\n",
       "      <td>1125</td>\n",
       "    </tr>\n",
       "    <tr>\n",
       "      <th>1</th>\n",
       "      <td>2818</td>\n",
       "      <td>2023-09-05</td>\n",
       "      <td>t</td>\n",
       "      <td>$69.00</td>\n",
       "      <td>$69.00</td>\n",
       "      <td>3</td>\n",
       "      <td>1125</td>\n",
       "    </tr>\n",
       "    <tr>\n",
       "      <th>2</th>\n",
       "      <td>2818</td>\n",
       "      <td>2023-09-06</td>\n",
       "      <td>f</td>\n",
       "      <td>$69.00</td>\n",
       "      <td>$69.00</td>\n",
       "      <td>3</td>\n",
       "      <td>1125</td>\n",
       "    </tr>\n",
       "    <tr>\n",
       "      <th>3</th>\n",
       "      <td>2818</td>\n",
       "      <td>2023-09-07</td>\n",
       "      <td>f</td>\n",
       "      <td>$69.00</td>\n",
       "      <td>$69.00</td>\n",
       "      <td>3</td>\n",
       "      <td>1125</td>\n",
       "    </tr>\n",
       "    <tr>\n",
       "      <th>4</th>\n",
       "      <td>2818</td>\n",
       "      <td>2023-09-08</td>\n",
       "      <td>f</td>\n",
       "      <td>$69.00</td>\n",
       "      <td>$69.00</td>\n",
       "      <td>3</td>\n",
       "      <td>1125</td>\n",
       "    </tr>\n",
       "  </tbody>\n",
       "</table>\n",
       "</div>"
      ],
      "text/plain": [
       "   listing_id        date available   price adjusted_price  minimum_nights  \\\n",
       "0        2818  2023-09-04         f  $69.00         $69.00               3   \n",
       "1        2818  2023-09-05         t  $69.00         $69.00               3   \n",
       "2        2818  2023-09-06         f  $69.00         $69.00               3   \n",
       "3        2818  2023-09-07         f  $69.00         $69.00               3   \n",
       "4        2818  2023-09-08         f  $69.00         $69.00               3   \n",
       "\n",
       "   maximum_nights  \n",
       "0            1125  \n",
       "1            1125  \n",
       "2            1125  \n",
       "3            1125  \n",
       "4            1125  "
      ]
     },
     "execution_count": 43,
     "metadata": {},
     "output_type": "execute_result"
    }
   ],
   "source": [
    "calendar_df = pd.read_csv(\"../data/inside/calendar.csv\")\n",
    "calendar_df.head()"
   ]
  },
  {
   "cell_type": "code",
   "execution_count": 44,
   "id": "135e04f3-95b5-41b0-b9cb-32646e6dbce7",
   "metadata": {},
   "outputs": [
    {
     "data": {
      "text/plain": [
       "available\n",
       "f    2365451\n",
       "t     695440\n",
       "Name: count, dtype: int64"
      ]
     },
     "execution_count": 44,
     "metadata": {},
     "output_type": "execute_result"
    }
   ],
   "source": [
    "calendar_df[\"available\"].value_counts()"
   ]
  },
  {
   "cell_type": "code",
   "execution_count": 50,
   "id": "44c728ac-6b6b-49b8-a3fd-a748a763fceb",
   "metadata": {},
   "outputs": [
    {
     "data": {
      "text/plain": [
       "('2024-09-02', '2023-09-03')"
      ]
     },
     "execution_count": 50,
     "metadata": {},
     "output_type": "execute_result"
    }
   ],
   "source": [
    "calendar_df[\"date\"].max(), calendar_df[\"date\"].min()"
   ]
  },
  {
   "cell_type": "markdown",
   "id": "8f6bdf61-0584-400a-95eb-a2c3afc25608",
   "metadata": {},
   "source": [
    "### Listings"
   ]
  },
  {
   "cell_type": "code",
   "execution_count": 51,
   "id": "81851b2a-15d5-4b24-841c-1f59a8e2b13a",
   "metadata": {
    "scrolled": true
   },
   "outputs": [
    {
     "data": {
      "text/html": [
       "<div>\n",
       "<style scoped>\n",
       "    .dataframe tbody tr th:only-of-type {\n",
       "        vertical-align: middle;\n",
       "    }\n",
       "\n",
       "    .dataframe tbody tr th {\n",
       "        vertical-align: top;\n",
       "    }\n",
       "\n",
       "    .dataframe thead th {\n",
       "        text-align: right;\n",
       "    }\n",
       "</style>\n",
       "<table border=\"1\" class=\"dataframe\">\n",
       "  <thead>\n",
       "    <tr style=\"text-align: right;\">\n",
       "      <th></th>\n",
       "      <th>id</th>\n",
       "      <th>listing_url</th>\n",
       "      <th>scrape_id</th>\n",
       "      <th>last_scraped</th>\n",
       "      <th>source</th>\n",
       "      <th>name</th>\n",
       "      <th>description</th>\n",
       "      <th>neighborhood_overview</th>\n",
       "      <th>picture_url</th>\n",
       "      <th>host_id</th>\n",
       "      <th>...</th>\n",
       "      <th>review_scores_communication</th>\n",
       "      <th>review_scores_location</th>\n",
       "      <th>review_scores_value</th>\n",
       "      <th>license</th>\n",
       "      <th>instant_bookable</th>\n",
       "      <th>calculated_host_listings_count</th>\n",
       "      <th>calculated_host_listings_count_entire_homes</th>\n",
       "      <th>calculated_host_listings_count_private_rooms</th>\n",
       "      <th>calculated_host_listings_count_shared_rooms</th>\n",
       "      <th>reviews_per_month</th>\n",
       "    </tr>\n",
       "  </thead>\n",
       "  <tbody>\n",
       "    <tr>\n",
       "      <th>0</th>\n",
       "      <td>761411</td>\n",
       "      <td>https://www.airbnb.com/rooms/761411</td>\n",
       "      <td>20230903194145</td>\n",
       "      <td>2023-09-03</td>\n",
       "      <td>city scrape</td>\n",
       "      <td>Condo in Amsterdam · ★4.74 · 1 bedroom · 1 bed...</td>\n",
       "      <td>Really quiet, spacious and safe, a nice place ...</td>\n",
       "      <td>The neighborhood is very green, quiet, safe an...</td>\n",
       "      <td>https://a0.muscache.com/pictures/10591508/bf30...</td>\n",
       "      <td>4013546</td>\n",
       "      <td>...</td>\n",
       "      <td>4.92</td>\n",
       "      <td>4.42</td>\n",
       "      <td>4.65</td>\n",
       "      <td>0363 D4AD DCF3 E72A 56A2</td>\n",
       "      <td>t</td>\n",
       "      <td>2</td>\n",
       "      <td>0</td>\n",
       "      <td>2</td>\n",
       "      <td>0</td>\n",
       "      <td>2.30</td>\n",
       "    </tr>\n",
       "    <tr>\n",
       "      <th>1</th>\n",
       "      <td>768274</td>\n",
       "      <td>https://www.airbnb.com/rooms/768274</td>\n",
       "      <td>20230903194145</td>\n",
       "      <td>2023-09-04</td>\n",
       "      <td>city scrape</td>\n",
       "      <td>Rental unit in Amsterdam · ★4.83 · 1 bedroom ·...</td>\n",
       "      <td>Our cool and spacious loft is perfect for a st...</td>\n",
       "      <td>Our neighbourhood is ons of the most beautiful...</td>\n",
       "      <td>https://a0.muscache.com/pictures/27206847/31f5...</td>\n",
       "      <td>3678216</td>\n",
       "      <td>...</td>\n",
       "      <td>4.94</td>\n",
       "      <td>4.86</td>\n",
       "      <td>4.77</td>\n",
       "      <td>0363 7A50 18E7 51D1 B7F9</td>\n",
       "      <td>t</td>\n",
       "      <td>1</td>\n",
       "      <td>1</td>\n",
       "      <td>0</td>\n",
       "      <td>0</td>\n",
       "      <td>0.64</td>\n",
       "    </tr>\n",
       "    <tr>\n",
       "      <th>2</th>\n",
       "      <td>768737</td>\n",
       "      <td>https://www.airbnb.com/rooms/768737</td>\n",
       "      <td>20230903194145</td>\n",
       "      <td>2023-09-03</td>\n",
       "      <td>city scrape</td>\n",
       "      <td>Boat in Amsterdam · ★4.82 · 1 bedroom · 1 bed ...</td>\n",
       "      <td>Room to rent in my houseboat. The room has a p...</td>\n",
       "      <td>It is just outside the Jordan in between the c...</td>\n",
       "      <td>https://a0.muscache.com/pictures/1df40445-354f...</td>\n",
       "      <td>3877342</td>\n",
       "      <td>...</td>\n",
       "      <td>4.87</td>\n",
       "      <td>4.72</td>\n",
       "      <td>4.68</td>\n",
       "      <td>036396BE30827DDB9575</td>\n",
       "      <td>t</td>\n",
       "      <td>3</td>\n",
       "      <td>1</td>\n",
       "      <td>2</td>\n",
       "      <td>0</td>\n",
       "      <td>2.73</td>\n",
       "    </tr>\n",
       "    <tr>\n",
       "      <th>3</th>\n",
       "      <td>771217</td>\n",
       "      <td>https://www.airbnb.com/rooms/771217</td>\n",
       "      <td>20230903194145</td>\n",
       "      <td>2023-09-04</td>\n",
       "      <td>previous scrape</td>\n",
       "      <td>Houseboat in Amsterdam · ★5.0 · 3 bedrooms · 3...</td>\n",
       "      <td>Spacious houseboat in Amsterdam, suitable for ...</td>\n",
       "      <td>The houseboat lies in an area with ± 200 house...</td>\n",
       "      <td>https://a0.muscache.com/pictures/57715927/0808...</td>\n",
       "      <td>4068486</td>\n",
       "      <td>...</td>\n",
       "      <td>5.00</td>\n",
       "      <td>4.67</td>\n",
       "      <td>4.56</td>\n",
       "      <td>0363 D807 AD6C 499A F871</td>\n",
       "      <td>f</td>\n",
       "      <td>1</td>\n",
       "      <td>1</td>\n",
       "      <td>0</td>\n",
       "      <td>0</td>\n",
       "      <td>0.11</td>\n",
       "    </tr>\n",
       "    <tr>\n",
       "      <th>4</th>\n",
       "      <td>771343</td>\n",
       "      <td>https://www.airbnb.com/rooms/771343</td>\n",
       "      <td>20230903194145</td>\n",
       "      <td>2023-09-03</td>\n",
       "      <td>city scrape</td>\n",
       "      <td>Rental unit in Amsterdam · ★4.89 · 1 bedroom ·...</td>\n",
       "      <td>Royal Bed &amp; Coffee Room with a very comfortabl...</td>\n",
       "      <td>The building is located in Amsterdam centre in...</td>\n",
       "      <td>https://a0.muscache.com/pictures/ea22d262-7456...</td>\n",
       "      <td>2313061</td>\n",
       "      <td>...</td>\n",
       "      <td>4.91</td>\n",
       "      <td>4.96</td>\n",
       "      <td>4.79</td>\n",
       "      <td>0363 8C61 E9B9 5582 913E</td>\n",
       "      <td>f</td>\n",
       "      <td>2</td>\n",
       "      <td>0</td>\n",
       "      <td>2</td>\n",
       "      <td>0</td>\n",
       "      <td>6.62</td>\n",
       "    </tr>\n",
       "  </tbody>\n",
       "</table>\n",
       "<p>5 rows × 75 columns</p>\n",
       "</div>"
      ],
      "text/plain": [
       "       id                          listing_url       scrape_id last_scraped  \\\n",
       "0  761411  https://www.airbnb.com/rooms/761411  20230903194145   2023-09-03   \n",
       "1  768274  https://www.airbnb.com/rooms/768274  20230903194145   2023-09-04   \n",
       "2  768737  https://www.airbnb.com/rooms/768737  20230903194145   2023-09-03   \n",
       "3  771217  https://www.airbnb.com/rooms/771217  20230903194145   2023-09-04   \n",
       "4  771343  https://www.airbnb.com/rooms/771343  20230903194145   2023-09-03   \n",
       "\n",
       "            source                                               name  \\\n",
       "0      city scrape  Condo in Amsterdam · ★4.74 · 1 bedroom · 1 bed...   \n",
       "1      city scrape  Rental unit in Amsterdam · ★4.83 · 1 bedroom ·...   \n",
       "2      city scrape  Boat in Amsterdam · ★4.82 · 1 bedroom · 1 bed ...   \n",
       "3  previous scrape  Houseboat in Amsterdam · ★5.0 · 3 bedrooms · 3...   \n",
       "4      city scrape  Rental unit in Amsterdam · ★4.89 · 1 bedroom ·...   \n",
       "\n",
       "                                         description  \\\n",
       "0  Really quiet, spacious and safe, a nice place ...   \n",
       "1  Our cool and spacious loft is perfect for a st...   \n",
       "2  Room to rent in my houseboat. The room has a p...   \n",
       "3  Spacious houseboat in Amsterdam, suitable for ...   \n",
       "4  Royal Bed & Coffee Room with a very comfortabl...   \n",
       "\n",
       "                               neighborhood_overview  \\\n",
       "0  The neighborhood is very green, quiet, safe an...   \n",
       "1  Our neighbourhood is ons of the most beautiful...   \n",
       "2  It is just outside the Jordan in between the c...   \n",
       "3  The houseboat lies in an area with ± 200 house...   \n",
       "4  The building is located in Amsterdam centre in...   \n",
       "\n",
       "                                         picture_url  host_id  ...  \\\n",
       "0  https://a0.muscache.com/pictures/10591508/bf30...  4013546  ...   \n",
       "1  https://a0.muscache.com/pictures/27206847/31f5...  3678216  ...   \n",
       "2  https://a0.muscache.com/pictures/1df40445-354f...  3877342  ...   \n",
       "3  https://a0.muscache.com/pictures/57715927/0808...  4068486  ...   \n",
       "4  https://a0.muscache.com/pictures/ea22d262-7456...  2313061  ...   \n",
       "\n",
       "  review_scores_communication review_scores_location review_scores_value  \\\n",
       "0                        4.92                   4.42                4.65   \n",
       "1                        4.94                   4.86                4.77   \n",
       "2                        4.87                   4.72                4.68   \n",
       "3                        5.00                   4.67                4.56   \n",
       "4                        4.91                   4.96                4.79   \n",
       "\n",
       "                    license instant_bookable calculated_host_listings_count  \\\n",
       "0  0363 D4AD DCF3 E72A 56A2                t                              2   \n",
       "1  0363 7A50 18E7 51D1 B7F9                t                              1   \n",
       "2      036396BE30827DDB9575                t                              3   \n",
       "3  0363 D807 AD6C 499A F871                f                              1   \n",
       "4  0363 8C61 E9B9 5582 913E                f                              2   \n",
       "\n",
       "  calculated_host_listings_count_entire_homes  \\\n",
       "0                                           0   \n",
       "1                                           1   \n",
       "2                                           1   \n",
       "3                                           1   \n",
       "4                                           0   \n",
       "\n",
       "  calculated_host_listings_count_private_rooms  \\\n",
       "0                                            2   \n",
       "1                                            0   \n",
       "2                                            2   \n",
       "3                                            0   \n",
       "4                                            2   \n",
       "\n",
       "  calculated_host_listings_count_shared_rooms reviews_per_month  \n",
       "0                                           0              2.30  \n",
       "1                                           0              0.64  \n",
       "2                                           0              2.73  \n",
       "3                                           0              0.11  \n",
       "4                                           0              6.62  \n",
       "\n",
       "[5 rows x 75 columns]"
      ]
     },
     "execution_count": 51,
     "metadata": {},
     "output_type": "execute_result"
    }
   ],
   "source": [
    "listings_df = pd.read_csv(\"../data/inside/listings.csv\")\n",
    "listings_df.head()"
   ]
  },
  {
   "cell_type": "code",
   "execution_count": 54,
   "id": "a9c10cc0-b819-4560-bcfc-3929d27cae85",
   "metadata": {},
   "outputs": [
    {
     "data": {
      "text/plain": [
       "Index(['id', 'listing_url', 'scrape_id', 'last_scraped', 'source', 'name',\n",
       "       'description', 'neighborhood_overview', 'picture_url', 'host_id',\n",
       "       'host_url', 'host_name', 'host_since', 'host_location', 'host_about',\n",
       "       'host_response_time', 'host_response_rate', 'host_acceptance_rate',\n",
       "       'host_is_superhost', 'host_thumbnail_url', 'host_picture_url',\n",
       "       'host_neighbourhood', 'host_listings_count',\n",
       "       'host_total_listings_count', 'host_verifications',\n",
       "       'host_has_profile_pic', 'host_identity_verified', 'neighbourhood',\n",
       "       'neighbourhood_cleansed', 'neighbourhood_group_cleansed', 'latitude',\n",
       "       'longitude', 'property_type', 'room_type', 'accommodates', 'bathrooms',\n",
       "       'bathrooms_text', 'bedrooms', 'beds', 'amenities', 'price',\n",
       "       'minimum_nights', 'maximum_nights', 'minimum_minimum_nights',\n",
       "       'maximum_minimum_nights', 'minimum_maximum_nights',\n",
       "       'maximum_maximum_nights', 'minimum_nights_avg_ntm',\n",
       "       'maximum_nights_avg_ntm', 'calendar_updated', 'has_availability',\n",
       "       'availability_30', 'availability_60', 'availability_90',\n",
       "       'availability_365', 'calendar_last_scraped', 'number_of_reviews',\n",
       "       'number_of_reviews_ltm', 'number_of_reviews_l30d', 'first_review',\n",
       "       'last_review', 'review_scores_rating', 'review_scores_accuracy',\n",
       "       'review_scores_cleanliness', 'review_scores_checkin',\n",
       "       'review_scores_communication', 'review_scores_location',\n",
       "       'review_scores_value', 'license', 'instant_bookable',\n",
       "       'calculated_host_listings_count',\n",
       "       'calculated_host_listings_count_entire_homes',\n",
       "       'calculated_host_listings_count_private_rooms',\n",
       "       'calculated_host_listings_count_shared_rooms', 'reviews_per_month'],\n",
       "      dtype='object')"
      ]
     },
     "execution_count": 54,
     "metadata": {},
     "output_type": "execute_result"
    }
   ],
   "source": [
    "listings_df.columns"
   ]
  },
  {
   "cell_type": "code",
   "execution_count": null,
   "id": "becd0f7b-456d-4d12-b905-3b31c1e01ac8",
   "metadata": {},
   "outputs": [],
   "source": []
  },
  {
   "cell_type": "markdown",
   "id": "52030231-d452-4c73-8f43-c08a02554989",
   "metadata": {},
   "source": [
    "### Reviews"
   ]
  },
  {
   "cell_type": "code",
   "execution_count": 55,
   "id": "b16f1880-34df-4e3c-845b-8a3577086c89",
   "metadata": {
    "scrolled": true
   },
   "outputs": [
    {
     "data": {
      "text/html": [
       "<div>\n",
       "<style scoped>\n",
       "    .dataframe tbody tr th:only-of-type {\n",
       "        vertical-align: middle;\n",
       "    }\n",
       "\n",
       "    .dataframe tbody tr th {\n",
       "        vertical-align: top;\n",
       "    }\n",
       "\n",
       "    .dataframe thead th {\n",
       "        text-align: right;\n",
       "    }\n",
       "</style>\n",
       "<table border=\"1\" class=\"dataframe\">\n",
       "  <thead>\n",
       "    <tr style=\"text-align: right;\">\n",
       "      <th></th>\n",
       "      <th>listing_id</th>\n",
       "      <th>id</th>\n",
       "      <th>date</th>\n",
       "      <th>reviewer_id</th>\n",
       "      <th>reviewer_name</th>\n",
       "      <th>comments</th>\n",
       "    </tr>\n",
       "  </thead>\n",
       "  <tbody>\n",
       "    <tr>\n",
       "      <th>0</th>\n",
       "      <td>2818</td>\n",
       "      <td>1191</td>\n",
       "      <td>2009-03-30</td>\n",
       "      <td>10952</td>\n",
       "      <td>Lam</td>\n",
       "      <td>Daniel is really cool. The place was nice and ...</td>\n",
       "    </tr>\n",
       "    <tr>\n",
       "      <th>1</th>\n",
       "      <td>2818</td>\n",
       "      <td>1771</td>\n",
       "      <td>2009-04-24</td>\n",
       "      <td>12798</td>\n",
       "      <td>Alice</td>\n",
       "      <td>Daniel is the most amazing host! His place is ...</td>\n",
       "    </tr>\n",
       "    <tr>\n",
       "      <th>2</th>\n",
       "      <td>2818</td>\n",
       "      <td>1989</td>\n",
       "      <td>2009-05-03</td>\n",
       "      <td>11869</td>\n",
       "      <td>Natalja</td>\n",
       "      <td>We had such a great time in Amsterdam. Daniel ...</td>\n",
       "    </tr>\n",
       "    <tr>\n",
       "      <th>3</th>\n",
       "      <td>2818</td>\n",
       "      <td>2797</td>\n",
       "      <td>2009-05-18</td>\n",
       "      <td>14064</td>\n",
       "      <td>Enrique</td>\n",
       "      <td>Very professional operation. Room is very clea...</td>\n",
       "    </tr>\n",
       "    <tr>\n",
       "      <th>4</th>\n",
       "      <td>2818</td>\n",
       "      <td>3151</td>\n",
       "      <td>2009-05-25</td>\n",
       "      <td>17977</td>\n",
       "      <td>Sherwin</td>\n",
       "      <td>Daniel is highly recommended.  He provided all...</td>\n",
       "    </tr>\n",
       "  </tbody>\n",
       "</table>\n",
       "</div>"
      ],
      "text/plain": [
       "   listing_id    id        date  reviewer_id reviewer_name  \\\n",
       "0        2818  1191  2009-03-30        10952           Lam   \n",
       "1        2818  1771  2009-04-24        12798         Alice   \n",
       "2        2818  1989  2009-05-03        11869       Natalja   \n",
       "3        2818  2797  2009-05-18        14064       Enrique   \n",
       "4        2818  3151  2009-05-25        17977       Sherwin   \n",
       "\n",
       "                                            comments  \n",
       "0  Daniel is really cool. The place was nice and ...  \n",
       "1  Daniel is the most amazing host! His place is ...  \n",
       "2  We had such a great time in Amsterdam. Daniel ...  \n",
       "3  Very professional operation. Room is very clea...  \n",
       "4  Daniel is highly recommended.  He provided all...  "
      ]
     },
     "execution_count": 55,
     "metadata": {},
     "output_type": "execute_result"
    }
   ],
   "source": [
    "reviews_df = pd.read_csv(\"../data/inside/reviews.csv\")\n",
    "reviews_df.head()"
   ]
  },
  {
   "cell_type": "code",
   "execution_count": 56,
   "id": "0e226ff5-39de-4fab-a094-b6ae8e471aee",
   "metadata": {},
   "outputs": [
    {
     "data": {
      "text/plain": [
       "('2023-09-03', '2009-03-30')"
      ]
     },
     "execution_count": 56,
     "metadata": {},
     "output_type": "execute_result"
    }
   ],
   "source": [
    "reviews_df[\"date\"].max(), reviews_df[\"date\"].min()"
   ]
  },
  {
   "cell_type": "code",
   "execution_count": null,
   "id": "dc4008e5-aa65-4d23-86ef-5b038a961892",
   "metadata": {},
   "outputs": [],
   "source": []
  }
 ],
 "metadata": {
  "kernelspec": {
   "display_name": "datasci",
   "language": "python",
   "name": "myenv"
  },
  "language_info": {
   "codemirror_mode": {
    "name": "ipython",
    "version": 3
   },
   "file_extension": ".py",
   "mimetype": "text/x-python",
   "name": "python",
   "nbconvert_exporter": "python",
   "pygments_lexer": "ipython3",
   "version": "3.10.13"
  }
 },
 "nbformat": 4,
 "nbformat_minor": 5
}
